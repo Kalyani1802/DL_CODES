{
 "cells": [
  {
   "cell_type": "code",
   "execution_count": 76,
   "id": "d74fd661",
   "metadata": {},
   "outputs": [],
   "source": [
    "import pandas as pd\n",
    "import numpy as np\n",
    "import matplotlib.pyplot as plt"
   ]
  },
  {
   "cell_type": "code",
   "execution_count": 77,
   "id": "8cd1f41c",
   "metadata": {},
   "outputs": [],
   "source": [
    "import tensorflow as tf\n",
    "from tensorflow import keras"
   ]
  },
  {
   "cell_type": "code",
   "execution_count": 78,
   "id": "7c53c859",
   "metadata": {},
   "outputs": [],
   "source": [
    "mnist = tf.keras.datasets.mnist\n",
    "(x_train, y_train), (x_test, y_test) = mnist.load_data()"
   ]
  },
  {
   "cell_type": "code",
   "execution_count": 79,
   "id": "f5cdece8",
   "metadata": {},
   "outputs": [
    {
     "name": "stdout",
     "output_type": "stream",
     "text": [
      "(60000, 28, 28) (60000,)\n"
     ]
    }
   ],
   "source": [
    "print(x_train.shape,y_train.shape)"
   ]
  },
  {
   "cell_type": "code",
   "execution_count": 80,
   "id": "bedb1f5a",
   "metadata": {},
   "outputs": [],
   "source": [
    "# Preprocessing data "
   ]
  },
  {
   "cell_type": "code",
   "execution_count": 81,
   "id": "5800c4b6",
   "metadata": {},
   "outputs": [],
   "source": [
    "# Reshaping data :the images are single-channel (grayscale) so there is only one channel in original mnist dataset so \n",
    "# but the cnn takes 4d input thus The reshape function is used to add the channel dimension to each image, resulting \n",
    "# in a 4D tensor of shape (number of samples, 28, 28, 1).\n",
    "\n",
    "# Channels: In the context of grayscale images, the channel is 1 because there is only one color channel (gray). \n",
    "# For RGB images, there are three channels (red, green, and blue).\n",
    "\n",
    "# .reshape():  reshape the dimensions of the NumPy array the images from a 2D format (28x28 pixels) to a 3D format (28x28x1). \n",
    "# The 1 at the end represents the number of channels.\n",
    "\n",
    "# x_train.shape[0]: This part ensures that the first dimension of the reshaped array remains the same as the original dataset. The shape[0] is the number of samples in the dataset.\n",
    "\n",
    "# 28, 28, 1: The new shape of the array after reshaping. The first two dimensions (28, 28) represent the height and width of the image, and the third dimension (1) represents the number of channels.\n",
    "\n",
    "x_train = x_train.reshape(x_train.shape[0], 28, 28, 1)\n",
    "x_test = x_test.reshape(x_test.shape[0], 28, 28, 1)"
   ]
  },
  {
   "cell_type": "code",
   "execution_count": 82,
   "id": "4051fabe",
   "metadata": {},
   "outputs": [
    {
     "name": "stdout",
     "output_type": "stream",
     "text": [
      "uint8\n"
     ]
    }
   ],
   "source": [
    "print(x_train.dtype)"
   ]
  },
  {
   "cell_type": "code",
   "execution_count": 83,
   "id": "e402a301",
   "metadata": {},
   "outputs": [],
   "source": [
    "x_train = x_train.astype('float32')\n",
    "x_test = x_test.astype('float32')"
   ]
  },
  {
   "cell_type": "code",
   "execution_count": 84,
   "id": "56c4b815",
   "metadata": {},
   "outputs": [
    {
     "name": "stdout",
     "output_type": "stream",
     "text": [
      "float32\n"
     ]
    }
   ],
   "source": [
    "print(x_train.dtype) \n",
    "# ye karre rahe taki apne ko decimal point values mile so that ploting ke liye acha hoga "
   ]
  },
  {
   "cell_type": "code",
   "execution_count": 85,
   "id": "8038c43c",
   "metadata": {},
   "outputs": [],
   "source": [
    "# Normalize\n",
    "x_train /= 255\n",
    "x_test /= 255"
   ]
  },
  {
   "cell_type": "code",
   "execution_count": 86,
   "id": "27069044",
   "metadata": {},
   "outputs": [
    {
     "name": "stdout",
     "output_type": "stream",
     "text": [
      "x_train shape: (60000, 28, 28, 1)\n",
      "Number of images in x_train 60000\n",
      "Number of images in x_test 10000\n"
     ]
    }
   ],
   "source": [
    "print('x_train shape:', x_train.shape)\n",
    "print('Number of images in x_train', x_train.shape[0])\n",
    "print('Number of images in x_test', x_test.shape[0])\n",
    "     "
   ]
  },
  {
   "cell_type": "code",
   "execution_count": 87,
   "id": "a90c65e5",
   "metadata": {},
   "outputs": [],
   "source": [
    "# Defining the model's architecture"
   ]
  },
  {
   "cell_type": "code",
   "execution_count": 88,
   "id": "c0ef512b",
   "metadata": {},
   "outputs": [],
   "source": [
    "from tensorflow.keras.models import Sequential"
   ]
  },
  {
   "cell_type": "code",
   "execution_count": 89,
   "id": "98ba7378",
   "metadata": {},
   "outputs": [],
   "source": [
    "model = Sequential()"
   ]
  },
  {
   "cell_type": "code",
   "execution_count": 90,
   "id": "0ddc1481",
   "metadata": {},
   "outputs": [],
   "source": [
    "from tensorflow.keras.layers import Dense, Conv2D, Dropout, Flatten, MaxPooling2D"
   ]
  },
  {
   "cell_type": "code",
   "execution_count": 91,
   "id": "98bf0b7f",
   "metadata": {},
   "outputs": [],
   "source": [
    "# First layer is convolutional layer \n",
    "# 28: number of layers jitne apne ko chaiye (kuchbhi rakh sakte )\n",
    "# then kernel_size=(3,3):size of kernel pure matrix maise 3x3 lene \n",
    "# input shape : dimenstions of apna dataset \n",
    "model.add(Conv2D(28, kernel_size=(3,3), input_shape=(28,28,1))) "
   ]
  },
  {
   "cell_type": "code",
   "execution_count": 92,
   "id": "2a8206a5",
   "metadata": {},
   "outputs": [],
   "source": [
    "# 2nd layer max pooling : 2x2 ka pooling size matlab ek baar mai 2x2 ke matrix par pooling karna \n",
    "model.add(MaxPooling2D(pool_size=(2, 2)))"
   ]
  },
  {
   "cell_type": "code",
   "execution_count": 93,
   "id": "0f5211f4",
   "metadata": {},
   "outputs": [],
   "source": [
    "# converting to vectors to pass it into hidden layers \n",
    "model.add(Flatten()) # Flattening the 2D arrays for fully connected layers"
   ]
  },
  {
   "cell_type": "code",
   "execution_count": 94,
   "id": "f78d4ec7",
   "metadata": {},
   "outputs": [],
   "source": [
    "# hidden layer : dense : sab fully connected with 200 neurons and relu activation func \n",
    "# model.add(Dense(200, activation='relu'))\n",
    "model.add(Dense(200, activation=tf.nn.relu))"
   ]
  },
  {
   "cell_type": "code",
   "execution_count": 95,
   "id": "f25b01e8",
   "metadata": {},
   "outputs": [],
   "source": [
    "# dropout : remove neurons to avoid overfitting 20% neuron is removed \n",
    "model.add(Dropout(0.2))"
   ]
  },
  {
   "cell_type": "code",
   "execution_count": 96,
   "id": "50355078",
   "metadata": {},
   "outputs": [],
   "source": [
    "# output llayer \n",
    "# model.add(Dense(10,activation='softmax'))\n",
    "model.add(Dense(10,activation=tf.nn.softmax))"
   ]
  },
  {
   "cell_type": "code",
   "execution_count": 97,
   "id": "14599178",
   "metadata": {},
   "outputs": [
    {
     "name": "stdout",
     "output_type": "stream",
     "text": [
      "Model: \"sequential_3\"\n",
      "_________________________________________________________________\n",
      " Layer (type)                Output Shape              Param #   \n",
      "=================================================================\n",
      " conv2d_4 (Conv2D)           (None, 26, 26, 28)        280       \n",
      "                                                                 \n",
      " max_pooling2d_2 (MaxPoolin  (None, 13, 13, 28)        0         \n",
      " g2D)                                                            \n",
      "                                                                 \n",
      " flatten_2 (Flatten)         (None, 4732)              0         \n",
      "                                                                 \n",
      " dense_8 (Dense)             (None, 200)               946600    \n",
      "                                                                 \n",
      " dropout_4 (Dropout)         (None, 200)               0         \n",
      "                                                                 \n",
      " dense_9 (Dense)             (None, 10)                2010      \n",
      "                                                                 \n",
      "=================================================================\n",
      "Total params: 948890 (3.62 MB)\n",
      "Trainable params: 948890 (3.62 MB)\n",
      "Non-trainable params: 0 (0.00 Byte)\n",
      "_________________________________________________________________\n"
     ]
    }
   ],
   "source": [
    "model.summary()"
   ]
  },
  {
   "cell_type": "code",
   "execution_count": 98,
   "id": "93d31c38",
   "metadata": {},
   "outputs": [],
   "source": [
    "# training model \n",
    "model.compile(optimizer='adam',\n",
    "              loss='sparse_categorical_crossentropy',\n",
    "              metrics=['accuracy'])"
   ]
  },
  {
   "cell_type": "code",
   "execution_count": 99,
   "id": "609410d3",
   "metadata": {},
   "outputs": [
    {
     "name": "stdout",
     "output_type": "stream",
     "text": [
      "Epoch 1/10\n",
      "118/118 [==============================] - 11s 92ms/step - loss: 0.3991 - accuracy: 0.8894\n",
      "Epoch 2/10\n",
      "118/118 [==============================] - 10s 87ms/step - loss: 0.1478 - accuracy: 0.9566\n",
      "Epoch 3/10\n",
      "118/118 [==============================] - 10s 81ms/step - loss: 0.0984 - accuracy: 0.9705\n",
      "Epoch 4/10\n",
      "118/118 [==============================] - 10s 83ms/step - loss: 0.0734 - accuracy: 0.9781\n",
      "Epoch 5/10\n",
      "118/118 [==============================] - 10s 85ms/step - loss: 0.0574 - accuracy: 0.9829\n",
      "Epoch 6/10\n",
      "118/118 [==============================] - 10s 84ms/step - loss: 0.0458 - accuracy: 0.9864\n",
      "Epoch 7/10\n",
      "118/118 [==============================] - 10s 83ms/step - loss: 0.0394 - accuracy: 0.9879\n",
      "Epoch 8/10\n",
      "118/118 [==============================] - 10s 82ms/step - loss: 0.0326 - accuracy: 0.9901\n",
      "Epoch 9/10\n",
      "118/118 [==============================] - 10s 84ms/step - loss: 0.0291 - accuracy: 0.9915\n",
      "Epoch 10/10\n",
      "118/118 [==============================] - 10s 82ms/step - loss: 0.0229 - accuracy: 0.9935\n"
     ]
    }
   ],
   "source": [
    "batch_size = 512\n",
    "epochs = 10\n",
    "\n",
    "history = model.fit(x=x_train, y=y_train, batch_size=batch_size, epochs=epochs)"
   ]
  },
  {
   "cell_type": "code",
   "execution_count": 100,
   "id": "566b3560",
   "metadata": {},
   "outputs": [
    {
     "name": "stdout",
     "output_type": "stream",
     "text": [
      "313/313 [==============================] - 2s 6ms/step - loss: 0.0410 - accuracy: 0.9858\n",
      "0.040979038923978806\n",
      "0.98580002784729\n"
     ]
    }
   ],
   "source": [
    "test_loss, test_acc = model.evaluate(x_test, y_test)\n",
    "print(test_loss)\n",
    "print(test_acc)"
   ]
  },
  {
   "cell_type": "code",
   "execution_count": 102,
   "id": "8c2e667b",
   "metadata": {},
   "outputs": [
    {
     "data": {
      "text/plain": [
       "<function matplotlib.pyplot.show(close=None, block=None)>"
      ]
     },
     "execution_count": 102,
     "metadata": {},
     "output_type": "execute_result"
    },
    {
     "data": {
      "image/png": "[encoded data removed]",
      "text/plain": [
       "<Figure size 640x480 with 1 Axes>"
      ]
     },
     "metadata": {},
     "output_type": "display_data"
    }
   ],
   "source": [
    "# optional\n",
    "image = x_train[50]\n",
    "plt.imshow(np.squeeze(image),cmap='gray')\n",
    "plt.show"
   ]
  },
  {
   "cell_type": "code",
   "execution_count": 103,
   "id": "44c86b95",
   "metadata": {},
   "outputs": [
    {
     "name": "stdout",
     "output_type": "stream",
     "text": [
      "dict_keys(['loss', 'accuracy'])\n"
     ]
    }
   ],
   "source": [
    "\n",
    "# list all data in history\n",
    "print(history.history.keys())"
   ]
  },
  {
   "cell_type": "code",
   "execution_count": 104,
   "id": "599a56db",
   "metadata": {},
   "outputs": [
    {
     "data": {
      "image/png": "[encoded data removed]",
      "text/plain": [
       "<Figure size 640x480 with 1 Axes>"
      ]
     },
     "metadata": {},
     "output_type": "display_data"
    }
   ],
   "source": [
    "# summarize history for accuracy\n",
    "plt.plot(history.history['accuracy'])\n",
    "# plt.plot(history.history['val_accuracy'])\n",
    "plt.title('model accuracy')\n",
    "plt.ylabel('accuracy')\n",
    "plt.xlabel('epoch')\n",
    "plt.legend(['train', 'test'], loc='upper left')\n",
    "plt.show()\n"
   ]
  },
  {
   "cell_type": "code",
   "execution_count": 105,
   "id": "688a8bbe",
   "metadata": {},
   "outputs": [
    {
     "data": {
      "image/png": "[encoded data removed]",
      "text/plain": [
       "<Figure size 640x480 with 1 Axes>"
      ]
     },
     "metadata": {},
     "output_type": "display_data"
    }
   ],
   "source": [
    "# summarize history for loss\n",
    "plt.plot(history.history['loss'])\n",
    "# plt.plot(history.history['val_loss'])\n",
    "plt.title('model loss')\n",
    "plt.ylabel('loss')\n",
    "plt.xlabel('epoch')\n",
    "plt.legend(['train', 'test'], loc='upper left')\n",
    "plt.show()"
   ]
  },
  {
   "cell_type": "code",
   "execution_count": 106,
   "id": "31df216d",
   "metadata": {},
   "outputs": [
    {
     "name": "stdout",
     "output_type": "stream",
     "text": [
      "1/1 [==============================] - 0s 60ms/step\n",
      "2\n"
     ]
    },
    {
     "data": {
      "image/png": "[encoded data removed]",
      "text/plain": [
       "<Figure size 640x480 with 1 Axes>"
      ]
     },
     "metadata": {},
     "output_type": "display_data"
    }
   ],
   "source": [
    "\n",
    "image_index = 47\n",
    "plt.imshow(x_test[image_index].reshape(28, 28),cmap='Greys')\n",
    "#  is a function from the matplotlib.pyplot library that is used for displaying images.\n",
    "# basically apan testing ka 4444 index wale image ke dimensions badal rahe \n",
    "pred = model.predict(x_test[image_index].reshape(1, 28, 28, 1))\n",
    "#  model.predict is used to make predictions using the trained neural network model. \n",
    "# The input to this function is the image at the specified image_index from the test set\n",
    "print(pred.argmax())\n",
    "# pred.argmax() returns the index of the class with the highest predicted probability. \n",
    "# This index corresponds to the predicted digit for the given image."
   ]
  },
  {
   "cell_type": "code",
   "execution_count": null,
   "id": "0c271017",
   "metadata": {},
   "outputs": [],
   "source": []
  }
 ],
 "metadata": {
  "kernelspec": {
   "display_name": "Python 3 (ipykernel)",
   "language": "python",
   "name": "python3"
  },
  "language_info": {
   "codemirror_mode": {
    "name": "ipython",
    "version": 3
   },
   "file_extension": ".py",
   "mimetype": "text/x-python",
   "name": "python",
   "nbconvert_exporter": "python",
   "pygments_lexer": "ipython3",
   "version": "3.11.3"
  }
 },
 "nbformat": 4,
 "nbformat_minor": 5
}
